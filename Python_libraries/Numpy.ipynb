{
 "cells": [
  {
   "cell_type": "code",
   "execution_count": 3,
   "metadata": {},
   "outputs": [
    {
     "name": "stdout",
     "output_type": "stream",
     "text": [
      "[1 2 3]\n"
     ]
    }
   ],
   "source": [
    "import numpy as np\n",
    "a = np.array([1,2,3],dtype='int32') #1-D array data type int32\n",
    "print(a)"
   ]
  },
  {
   "cell_type": "code",
   "execution_count": 4,
   "metadata": {},
   "outputs": [
    {
     "name": "stdout",
     "output_type": "stream",
     "text": [
      "[[ 1  2  3  4  5]\n",
      " [ 6  7  8  9 10]]\n"
     ]
    }
   ],
   "source": [
    "b= np.array([[1,2,3,4,5],[6,7,8,9,10]]) #2-D array\n",
    "print(b)"
   ]
  },
  {
   "cell_type": "code",
   "execution_count": 5,
   "metadata": {},
   "outputs": [
    {
     "name": "stdout",
     "output_type": "stream",
     "text": [
      "1\n",
      "2\n"
     ]
    }
   ],
   "source": [
    "#Get dimension\n",
    "print(a.ndim)\n",
    "print(b.ndim)"
   ]
  },
  {
   "cell_type": "code",
   "execution_count": 6,
   "metadata": {},
   "outputs": [
    {
     "name": "stdout",
     "output_type": "stream",
     "text": [
      "(3,)\n",
      "(2, 5)\n"
     ]
    }
   ],
   "source": [
    "#Shape\n",
    "print(a.shape)  #1 row and 3 columns\n",
    "print(b.shape)  #2 rows and 5 columns"
   ]
  },
  {
   "cell_type": "code",
   "execution_count": 7,
   "metadata": {},
   "outputs": [
    {
     "name": "stdout",
     "output_type": "stream",
     "text": [
      "int32\n",
      "int64\n"
     ]
    }
   ],
   "source": [
    "#Data type\n",
    "print(a.dtype)  #data type of elements in the array\n",
    "print(b.dtype)  "
   ]
  },
  {
   "cell_type": "code",
   "execution_count": 8,
   "metadata": {},
   "outputs": [
    {
     "name": "stdout",
     "output_type": "stream",
     "text": [
      "4\n",
      "8\n"
     ]
    }
   ],
   "source": [
    "#Get size\n",
    "print(a.itemsize) #size of each element in the array\n",
    "print(b.itemsize)"
   ]
  },
  {
   "cell_type": "code",
   "execution_count": 9,
   "metadata": {},
   "outputs": [
    {
     "name": "stdout",
     "output_type": "stream",
     "text": [
      "3\n",
      "10\n"
     ]
    }
   ],
   "source": [
    "#Get total size\n",
    "print(a.size) #total number of elements in the array\n",
    "print(b.size)"
   ]
  },
  {
   "cell_type": "code",
   "execution_count": 10,
   "metadata": {},
   "outputs": [
    {
     "name": "stdout",
     "output_type": "stream",
     "text": [
      "[[ 1  2  3  4  5  6  7]\n",
      " [ 8  9 10 11 12 13 14]]\n"
     ]
    }
   ],
   "source": [
    "#Accesing/Changing specific elements, rows, columns, etc\n",
    "a = np.array([[1,2,3,4,5,6,7],[8,9,10,11,12,13,14]])\n",
    "print(a)"
   ]
  },
  {
   "cell_type": "code",
   "execution_count": 11,
   "metadata": {},
   "outputs": [
    {
     "name": "stdout",
     "output_type": "stream",
     "text": [
      "13\n",
      "13\n",
      "14\n",
      "14\n"
     ]
    }
   ],
   "source": [
    "#Get a specific element [r,c]\n",
    "print(a[1,5]) #13\n",
    "print(a[1,-2]) #13\n",
    "print(a[1,6])  #14\n",
    "print(a[1,-1]) #14"
   ]
  },
  {
   "cell_type": "code",
   "execution_count": 12,
   "metadata": {},
   "outputs": [
    {
     "name": "stdout",
     "output_type": "stream",
     "text": [
      "[1 2 3 4 5 6 7]\n",
      "[ 8  9 10 11 12 13 14]\n"
     ]
    }
   ],
   "source": [
    "#Get a specific row\n",
    "print(a[0,:]) #1st row\n",
    "print(a[1,:]) #2nd row"
   ]
  },
  {
   "cell_type": "code",
   "execution_count": 13,
   "metadata": {},
   "outputs": [
    {
     "name": "stdout",
     "output_type": "stream",
     "text": [
      "[1 8]\n",
      "[2 9]\n",
      "[ 3 10]\n"
     ]
    }
   ],
   "source": [
    "#Get a specific column\n",
    "print(a[:,0]) #1st column\n",
    "print(a[:,1]) #2nd column\n",
    "print(a[:,2]) #3rd column"
   ]
  },
  {
   "cell_type": "code",
   "execution_count": 14,
   "metadata": {},
   "outputs": [
    {
     "name": "stdout",
     "output_type": "stream",
     "text": [
      "[2 4 6]\n",
      "[2 4]\n",
      "[10 13]\n",
      "[ 9 12]\n"
     ]
    }
   ],
   "source": [
    "#Getting a little more fancy [startindex:endindex:stepsize]\n",
    "print(a[0,1:6:2]) #start from index 1 and go upto index 6 with step size 2\n",
    "print(a[0,1:-3:2]) #start from index 1 and go upto index -3 with step size 2\n",
    "print(a[1,2:6:3]) #start from index 2 and go upto index 6 with step size 3\n",
    "print(a[1,1:6:3]) #start from index 1 and go upto index 6 with step size 3"
   ]
  },
  {
   "cell_type": "code",
   "execution_count": 15,
   "metadata": {},
   "outputs": [
    {
     "name": "stdout",
     "output_type": "stream",
     "text": [
      "[[ 1  2  3  4  5  6  7]\n",
      " [ 8  9 10 11 20 13 14]]\n",
      "[[ 1  2  3  4  5  6  7]\n",
      " [ 8  9 10 11  5 13 14]]\n",
      "[[ 1  2  3  4  5  6  7]\n",
      " [10 10 10 10 10 10 10]]\n",
      "[[ 1  2  3  4  5  6  7]\n",
      " [10 10 10 10 10 10 10]]\n"
     ]
    }
   ],
   "source": [
    "#Changing elements\n",
    "a[1,4] = 20 #change element at 1st row and 4th column to 20\n",
    "print(a)\n",
    "a[:,4] = 5  #change all elements in 5th column to 5\n",
    "print(a)\n",
    "a[1,:] = 10 #change all elements in 2nd row to 10\n",
    "print(a)\n",
    "a[2:4,2:5] = 0 #change elements from 2nd row to 4th row and 2nd column to 5th column to 0\n",
    "print(a)"
   ]
  },
  {
   "cell_type": "markdown",
   "metadata": {},
   "source": [
    "3-d array example"
   ]
  },
  {
   "cell_type": "code",
   "execution_count": 16,
   "metadata": {},
   "outputs": [
    {
     "name": "stdout",
     "output_type": "stream",
     "text": [
      "[[[1 2]\n",
      "  [3 4]]\n",
      "\n",
      " [[5 6]\n",
      "  [7 8]]]\n",
      "[[[ 1  2  3]\n",
      "  [ 4  5  6]]\n",
      "\n",
      " [[ 7  8  9]\n",
      "  [10 11 12]]]\n"
     ]
    }
   ],
   "source": [
    "b = np.array([[[1,2],[3,4]],[[5,6],[7,8]]])#3-D array\n",
    "print(b)\n",
    "c = np.array([[[1,2,3],[4,5,6]],[[7,8,9],[10,11,12]]])#3-D array\n",
    "print(c)"
   ]
  },
  {
   "cell_type": "code",
   "execution_count": 17,
   "metadata": {},
   "outputs": [
    {
     "name": "stdout",
     "output_type": "stream",
     "text": [
      "4\n",
      "6\n",
      "1\n"
     ]
    }
   ],
   "source": [
    "#Get specific element (work outside in)\n",
    "print(b[0,1,1]) #4\n",
    "print(b[1,0,1]) #6\n",
    "print(c[0,0,0]) #1"
   ]
  },
  {
   "cell_type": "code",
   "execution_count": 18,
   "metadata": {},
   "outputs": [
    {
     "name": "stdout",
     "output_type": "stream",
     "text": [
      "[[[1 2]\n",
      "  [9 9]]\n",
      "\n",
      " [[5 6]\n",
      "  [8 8]]]\n",
      "\n",
      "\n",
      "[[[9 9]\n",
      "  [9 9]]\n",
      "\n",
      " [[8 8]\n",
      "  [8 8]]]\n"
     ]
    }
   ],
   "source": [
    "#replace\n",
    "b[:,1,:] = [[9,9],[8,8]] #replace 2nd row of all 2-D arrays with [9,9] and [8,8]\n",
    "print(b)\n",
    "print(\"\\n\")\n",
    "b[:,0,:] = [[9,9],[8,8]] #replace 1st row of all 2-D arrays with [9,9] and [8,8]\n",
    "print(b)"
   ]
  },
  {
   "cell_type": "markdown",
   "metadata": {},
   "source": [
    "Initializing different types of arrays"
   ]
  },
  {
   "cell_type": "code",
   "execution_count": 19,
   "metadata": {},
   "outputs": [
    {
     "name": "stdout",
     "output_type": "stream",
     "text": [
      "[[0. 0. 0.]\n",
      " [0. 0. 0.]]\n"
     ]
    }
   ],
   "source": [
    "#All 0s matrix\n",
    "print(np.zeros((2,3))) #2 rows and 3 columns"
   ]
  },
  {
   "cell_type": "code",
   "execution_count": 20,
   "metadata": {},
   "outputs": [
    {
     "name": "stdout",
     "output_type": "stream",
     "text": [
      "[[[1 1]\n",
      "  [1 1]]\n",
      "\n",
      " [[1 1]\n",
      "  [1 1]]\n",
      "\n",
      " [[1 1]\n",
      "  [1 1]]\n",
      "\n",
      " [[1 1]\n",
      "  [1 1]]]\n",
      "\n",
      "\n",
      "[[[1 1 1 1 1]\n",
      "  [1 1 1 1 1]\n",
      "  [1 1 1 1 1]\n",
      "  [1 1 1 1 1]\n",
      "  [1 1 1 1 1]]\n",
      "\n",
      " [[1 1 1 1 1]\n",
      "  [1 1 1 1 1]\n",
      "  [1 1 1 1 1]\n",
      "  [1 1 1 1 1]\n",
      "  [1 1 1 1 1]]]\n"
     ]
    }
   ],
   "source": [
    "#All 1s matrix\n",
    "print(np.ones((4,2,2),dtype='int32')) #4 2x2 matrix\n",
    "print(\"\\n\")\n",
    "print(np.ones((2,5,5),dtype='int32')) #5 5x5 matrix"
   ]
  },
  {
   "cell_type": "code",
   "execution_count": 21,
   "metadata": {},
   "outputs": [
    {
     "name": "stdout",
     "output_type": "stream",
     "text": [
      "[[[99. 99.]\n",
      "  [99. 99.]]\n",
      "\n",
      " [[99. 99.]\n",
      "  [99. 99.]]]\n",
      "\n",
      "\n",
      "[[[100 100 100 100]\n",
      "  [100 100 100 100]\n",
      "  [100 100 100 100]\n",
      "  [100 100 100 100]]\n",
      "\n",
      " [[100 100 100 100]\n",
      "  [100 100 100 100]\n",
      "  [100 100 100 100]\n",
      "  [100 100 100 100]]\n",
      "\n",
      " [[100 100 100 100]\n",
      "  [100 100 100 100]\n",
      "  [100 100 100 100]\n",
      "  [100 100 100 100]]\n",
      "\n",
      " [[100 100 100 100]\n",
      "  [100 100 100 100]\n",
      "  [100 100 100 100]\n",
      "  [100 100 100 100]]]\n"
     ]
    }
   ],
   "source": [
    "#Any other number\n",
    "print(np.full((2,2,2),99,dtype='float32')) #2x2 matrix with all 99\n",
    "print(\"\\n\")\n",
    "print(np.full((4,4,4),100,dtype='int32')) #4x4 matrix with all 100"
   ]
  },
  {
   "cell_type": "code",
   "execution_count": 22,
   "metadata": {},
   "outputs": [
    {
     "name": "stdout",
     "output_type": "stream",
     "text": [
      "[[4 4 4 4 4 4 4]\n",
      " [4 4 4 4 4 4 4]]\n",
      "\n",
      "\n",
      "[[5 5 5 5 5 5 5]\n",
      " [5 5 5 5 5 5 5]]\n"
     ]
    }
   ],
   "source": [
    "#Any other number (full_like)\n",
    "print(np.full_like(a,4)) #2x7 matrix with all 4\n",
    "print(\"\\n\")\n",
    "print(np.full_like(a,5)) #2x7 matrix with all 5"
   ]
  },
  {
   "cell_type": "code",
   "execution_count": 23,
   "metadata": {},
   "outputs": [
    {
     "name": "stdout",
     "output_type": "stream",
     "text": [
      "[[0.76004753 0.62064279]\n",
      " [0.21518081 0.8664196 ]\n",
      " [0.41431432 0.98316039]\n",
      " [0.49827706 0.47193343]]\n",
      "[[0.98870452 0.14629417 0.82609445 0.75362141 0.25572065 0.4315058\n",
      "  0.02540576]\n",
      " [0.07501357 0.58579136 0.52621591 0.25435729 0.15701693 0.55793517\n",
      "  0.53956181]]\n",
      "\n",
      "\n",
      "[[0.9832565  0.1928076  0.96493551 0.29395467]\n",
      " [0.60140844 0.28106535 0.85282465 0.9720594 ]\n",
      " [0.94224437 0.19702071 0.64368812 0.56815856]\n",
      " [0.96639806 0.81400075 0.20963613 0.35570006]]\n",
      "\n",
      "\n",
      "[[9 2 4 9]\n",
      " [4 4 6 2]\n",
      " [5 3 4 0]\n",
      " [7 4 9 2]]\n"
     ]
    }
   ],
   "source": [
    "#Random decimal numbers\n",
    "print(np.random.rand(4,2)) #4x2 matrix with random decimal\n",
    "print(np.random.random_sample(a.shape)) #2x7 matrix with random decimal\n",
    "print(\"\\n\")\n",
    "matrix = np.random.rand(4,4).astype(np.float64) #4x4 matrix with random decimal\n",
    "print(matrix)\n",
    "print(\"\\n\")\n",
    "matrix1 = np.random.uniform(0,10,(4,4)).astype(np.int64) #4x4 matrix with random decimal between 0 and 10\n",
    "print(matrix1)"
   ]
  },
  {
   "cell_type": "code",
   "execution_count": 24,
   "metadata": {},
   "outputs": [
    {
     "name": "stdout",
     "output_type": "stream",
     "text": [
      "[[5 6 5]\n",
      " [5 5 5]\n",
      " [6 6 5]]\n",
      "[[-1 -2  2]\n",
      " [-5 -1 -3]\n",
      " [-2 -5  5]]\n"
     ]
    }
   ],
   "source": [
    "#Random integer values\n",
    "print(np.random.randint(5,7,size=(3,3))) #3x3 matrix with random integer values from 0 to 6\n",
    "print(np.random.randint(-5,7,size=(3,3))) #3x3 matrix with random integer values from -5 to 6"
   ]
  },
  {
   "cell_type": "code",
   "execution_count": 25,
   "metadata": {},
   "outputs": [
    {
     "name": "stdout",
     "output_type": "stream",
     "text": [
      "[[1. 0. 0.]\n",
      " [0. 1. 0.]\n",
      " [0. 0. 1.]]\n",
      "\n",
      "\n",
      "[[1. 0. 0. 0.]\n",
      " [0. 1. 0. 0.]\n",
      " [0. 0. 1. 0.]\n",
      " [0. 0. 0. 1.]]\n"
     ]
    }
   ],
   "source": [
    "#indentity matrix\n",
    "print(np.identity(3)) #3x3 matrix with 1s in diagonal\n",
    "print(\"\\n\")\n",
    "print(np.identity(4,dtype=\"float32\")) #4x4 matrix with 1s in diagonal"
   ]
  },
  {
   "cell_type": "code",
   "execution_count": 26,
   "metadata": {},
   "outputs": [
    {
     "name": "stdout",
     "output_type": "stream",
     "text": [
      "[[1 2 3]]\n",
      "3\n",
      "[[1 2 3]\n",
      " [1 2 3]\n",
      " [1 2 3]]\n",
      "\n",
      "\n",
      "[[1 2 3]\n",
      " [1 2 3]\n",
      " [1 2 3]]\n",
      "\n",
      "\n",
      "[[1 1 1 2 2 2 3 3 3]]\n"
     ]
    }
   ],
   "source": [
    "#Repeat an array\n",
    "arr = np.array([[1,2,3]])\n",
    "print(arr)\n",
    "\"\"\"In NumPy, the term axis refers to the dimensions of an array.\n",
    "For a 2-D array, axis=0 refers to the rows and axis=1 refers to the columns.\"\"\"\n",
    "\"\"\"axis=0 refers to the vertical direction (down the rows).\n",
    "axis=1 refers to the horizontal direction (across the columns).\"\"\"\n",
    "\n",
    "print(arr.size) #3\n",
    "r1 = np.repeat(arr,3,axis=0) #repeat array 3 times along row\n",
    "print(r1)\n",
    "print(\"\\n\")\n",
    "r2 = np.repeat(arr,3,axis=0) #repeat array 3 times along column\n",
    "print(r2)\n",
    "print(\"\\n\")\n",
    "r3 = np.repeat(arr,3,axis=1) #repeat array 3 times along row\n",
    "print(r3)"
   ]
  },
  {
   "cell_type": "code",
   "execution_count": 27,
   "metadata": {},
   "outputs": [
    {
     "name": "stdout",
     "output_type": "stream",
     "text": [
      "[[1. 1. 1. 1. 1.]\n",
      " [1. 1. 1. 1. 1.]\n",
      " [1. 1. 1. 1. 1.]\n",
      " [1. 1. 1. 1. 1.]\n",
      " [1. 1. 1. 1. 1.]]\n",
      "\n",
      "\n",
      "[[0. 0. 0.]\n",
      " [0. 9. 0.]\n",
      " [0. 0. 0.]]\n",
      "\n",
      "\n",
      "[[1. 1. 1. 1. 1.]\n",
      " [1. 0. 0. 0. 1.]\n",
      " [1. 0. 9. 0. 1.]\n",
      " [1. 0. 0. 0. 1.]\n",
      " [1. 1. 1. 1. 1.]]\n"
     ]
    }
   ],
   "source": [
    "output = np.ones((5,5))\n",
    "print(output)\n",
    "print(\"\\n\")\n",
    "z = np.zeros((3,3))\n",
    "z[1,1] = 9\n",
    "print(z)\n",
    "print(\"\\n\")\n",
    "output[1:-1,1:-1] = z #from 1st row to 4th row and 1st column to 4th column replace with z\n",
    "print(output)"
   ]
  },
  {
   "cell_type": "markdown",
   "metadata": {},
   "source": [
    "#Be careful while copying arrays"
   ]
  },
  {
   "cell_type": "code",
   "execution_count": 28,
   "metadata": {},
   "outputs": [
    {
     "name": "stdout",
     "output_type": "stream",
     "text": [
      "[1 2 3]\n"
     ]
    }
   ],
   "source": [
    "a= np.array([1,2,3])\n",
    "b = a.copy()\n",
    "print(b)"
   ]
  },
  {
   "cell_type": "markdown",
   "metadata": {},
   "source": [
    "Mathematics:"
   ]
  },
  {
   "cell_type": "code",
   "execution_count": 29,
   "metadata": {},
   "outputs": [
    {
     "name": "stdout",
     "output_type": "stream",
     "text": [
      "[3 4 5]\n"
     ]
    }
   ],
   "source": [
    "#Adding into array\n",
    "a= np.array([1,2,3])\n",
    "print(a+2)"
   ]
  },
  {
   "cell_type": "code",
   "execution_count": 30,
   "metadata": {},
   "outputs": [
    {
     "name": "stdout",
     "output_type": "stream",
     "text": [
      "[-1  0  1]\n"
     ]
    }
   ],
   "source": [
    "#Subtracting into array\n",
    "print(a-2)"
   ]
  },
  {
   "cell_type": "code",
   "execution_count": 31,
   "metadata": {},
   "outputs": [
    {
     "name": "stdout",
     "output_type": "stream",
     "text": [
      "[2 4 6]\n"
     ]
    }
   ],
   "source": [
    "#Multiplying into array\n",
    "print(a*2)"
   ]
  },
  {
   "cell_type": "code",
   "execution_count": 32,
   "metadata": {},
   "outputs": [
    {
     "name": "stdout",
     "output_type": "stream",
     "text": [
      "[0.5 1.  1.5]\n"
     ]
    }
   ],
   "source": [
    "#Dividing into array\n",
    "print(a/2)"
   ]
  },
  {
   "cell_type": "code",
   "execution_count": 33,
   "metadata": {},
   "outputs": [
    {
     "name": "stdout",
     "output_type": "stream",
     "text": [
      "[2 2 4]\n"
     ]
    }
   ],
   "source": [
    "#Adding two arrays\n",
    "b= np.array([1,0,1])\n",
    "print(a+b)"
   ]
  },
  {
   "cell_type": "code",
   "execution_count": 34,
   "metadata": {},
   "outputs": [
    {
     "name": "stdout",
     "output_type": "stream",
     "text": [
      "[1 4 9]\n"
     ]
    }
   ],
   "source": [
    "#Square of array\n",
    "print(a**2)"
   ]
  },
  {
   "cell_type": "code",
   "execution_count": 35,
   "metadata": {},
   "outputs": [
    {
     "name": "stdout",
     "output_type": "stream",
     "text": [
      "[0.84147098 0.90929743 0.14112001]\n"
     ]
    }
   ],
   "source": [
    "#Take the sin\n",
    "print(np.sin(a))"
   ]
  },
  {
   "cell_type": "code",
   "execution_count": 36,
   "metadata": {},
   "outputs": [
    {
     "name": "stdout",
     "output_type": "stream",
     "text": [
      "[ 0.54030231 -0.41614684 -0.9899925 ]\n"
     ]
    }
   ],
   "source": [
    "#Take the cos\n",
    "print(np.cos(a))"
   ]
  },
  {
   "cell_type": "markdown",
   "metadata": {},
   "source": [
    "Linear Algebra"
   ]
  },
  {
   "cell_type": "code",
   "execution_count": 37,
   "metadata": {},
   "outputs": [
    {
     "name": "stdout",
     "output_type": "stream",
     "text": [
      "[[ 1  2  3  4]\n",
      " [ 5  6  7  8]\n",
      " [ 9 10 11 12]\n",
      " [13 14 15 16]]\n"
     ]
    }
   ],
   "source": [
    "a = np.array(([1,2,3,4],[5,6,7,8],[9,10,11,12],[13,14,15,16]))  #1-D array\n",
    "print(a)"
   ]
  },
  {
   "cell_type": "code",
   "execution_count": 38,
   "metadata": {},
   "outputs": [
    {
     "name": "stdout",
     "output_type": "stream",
     "text": [
      "[[1. 1. 1.]\n",
      " [1. 1. 1.]]\n",
      "[[2 2]\n",
      " [2 2]\n",
      " [2 2]]\n",
      "[[6. 6.]\n",
      " [6. 6.]]\n"
     ]
    }
   ],
   "source": [
    "a = np.ones((2,3))\n",
    "print(a)\n",
    "b= np.full((3,2),2)\n",
    "print(b)\n",
    "\n",
    "#Matrix multiplication\n",
    "print(np.matmul(a,b))"
   ]
  },
  {
   "cell_type": "code",
   "execution_count": 39,
   "metadata": {},
   "outputs": [
    {
     "name": "stdout",
     "output_type": "stream",
     "text": [
      "1.0\n"
     ]
    }
   ],
   "source": [
    "#Find the determinant\n",
    "c = np.identity(3)\n",
    "print(np.linalg.det(c)) #determinant of identity matrix using linear algebra"
   ]
  },
  {
   "cell_type": "code",
   "execution_count": 40,
   "metadata": {},
   "outputs": [
    {
     "name": "stdout",
     "output_type": "stream",
     "text": [
      "[1. 1. 1.]\n"
     ]
    },
    {
     "data": {
      "text/plain": [
       "'Many more functions are available in numpy library for linear algebra'"
      ]
     },
     "execution_count": 40,
     "metadata": {},
     "output_type": "execute_result"
    }
   ],
   "source": [
    "print(np.linalg.diagonal(c)) #diagonal of identity matrix using linear algebra\n",
    "\n",
    "\"\"\"Many more functions are available in numpy library for linear algebra\"\"\""
   ]
  },
  {
   "cell_type": "markdown",
   "metadata": {},
   "source": [
    "Statistics in numpy"
   ]
  },
  {
   "cell_type": "code",
   "execution_count": 41,
   "metadata": {},
   "outputs": [
    {
     "name": "stdout",
     "output_type": "stream",
     "text": [
      "[[1 2 3]\n",
      " [4 5 6]]\n"
     ]
    }
   ],
   "source": [
    "stats = np.array([[1,2,3],[4,5,6]])\n",
    "print(stats)"
   ]
  },
  {
   "cell_type": "code",
   "execution_count": 42,
   "metadata": {},
   "outputs": [
    {
     "data": {
      "text/plain": [
       "np.int64(1)"
      ]
     },
     "execution_count": 42,
     "metadata": {},
     "output_type": "execute_result"
    }
   ],
   "source": [
    "np.min(stats) #minimum value in the array"
   ]
  },
  {
   "cell_type": "code",
   "execution_count": 43,
   "metadata": {},
   "outputs": [
    {
     "data": {
      "text/plain": [
       "np.int64(6)"
      ]
     },
     "execution_count": 43,
     "metadata": {},
     "output_type": "execute_result"
    }
   ],
   "source": [
    "np.max(stats) #maximum value in the array"
   ]
  },
  {
   "cell_type": "markdown",
   "metadata": {},
   "source": [
    "Reorganizing arrays"
   ]
  },
  {
   "cell_type": "code",
   "execution_count": 44,
   "metadata": {},
   "outputs": [
    {
     "name": "stdout",
     "output_type": "stream",
     "text": [
      "[[1 2 3 4]\n",
      " [5 6 7 8]]\n",
      "[[1]\n",
      " [2]\n",
      " [3]\n",
      " [4]\n",
      " [5]\n",
      " [6]\n",
      " [7]\n",
      " [8]]\n"
     ]
    }
   ],
   "source": [
    "before = np.array([[1,2,3,4],[5,6,7,8]])\n",
    "print(before)\n",
    "\n",
    "after = before.reshape((8,1))\n",
    "print(after)"
   ]
  },
  {
   "cell_type": "code",
   "execution_count": 45,
   "metadata": {},
   "outputs": [
    {
     "name": "stdout",
     "output_type": "stream",
     "text": [
      "[[1 2 3 4]\n",
      " [5 6 7 8]\n",
      " [1 2 3 4]\n",
      " [5 6 7 8]]\n"
     ]
    }
   ],
   "source": [
    "#Vertically stacking vectors\n",
    "v1 = np.array([1,2,3,4])\n",
    "v2 = np.array([5,6,7,8])\n",
    "print(np.vstack([v1,v2,v1,v2])) #vertically stack v1 and v2\n"
   ]
  },
  {
   "cell_type": "code",
   "execution_count": 46,
   "metadata": {},
   "outputs": [
    {
     "name": "stdout",
     "output_type": "stream",
     "text": [
      "[[1. 1. 1. 1. 0. 0.]\n",
      " [1. 1. 1. 1. 0. 0.]]\n",
      "\n",
      "\n"
     ]
    }
   ],
   "source": [
    "#Horizontal stack\n",
    "h1 = np.ones((2,4))\n",
    "h2 = np.zeros((2,2))\n",
    "print(np.hstack((h1,h2))) #horizontally stack h1 and h2\n",
    "print(\"\\n\")\n"
   ]
  },
  {
   "cell_type": "code",
   "execution_count": 47,
   "metadata": {},
   "outputs": [
    {
     "name": "stdout",
     "output_type": "stream",
     "text": [
      "[[[ 1  2  3]\n",
      "  [ 4  5  6]]\n",
      "\n",
      " [[ 7  8  9]\n",
      "  [10 11 12]]]\n"
     ]
    }
   ],
   "source": [
    "raw = np.array([[[1,2,3],[4,5,6]],[[7,8,9],[10,11,12]]])\n",
    "print(raw) #3-D array"
   ]
  },
  {
   "cell_type": "markdown",
   "metadata": {},
   "source": [
    "Practice"
   ]
  },
  {
   "cell_type": "code",
   "execution_count": 48,
   "metadata": {},
   "outputs": [
    {
     "name": "stdout",
     "output_type": "stream",
     "text": [
      "[[1 2 3]\n",
      " [4 5 6]]\n",
      "8\n",
      "1\n"
     ]
    }
   ],
   "source": [
    "print(raw[0,:,:])\n",
    "print(raw[1,0,1])\n",
    "print(raw[0,0,0])"
   ]
  },
  {
   "cell_type": "code",
   "execution_count": 49,
   "metadata": {},
   "outputs": [
    {
     "name": "stdout",
     "output_type": "stream",
     "text": [
      "[[1 1]\n",
      " [1 1]]\n",
      "4\n"
     ]
    }
   ],
   "source": [
    "raw1 = np.ones((2,2),dtype='int32')\n",
    "print(raw1)\n",
    "print(raw1.itemsize)"
   ]
  },
  {
   "cell_type": "markdown",
   "metadata": {},
   "source": [
    "Data_Handling"
   ]
  },
  {
   "cell_type": "code",
   "execution_count": 50,
   "metadata": {},
   "outputs": [
    {
     "name": "stdout",
     "output_type": "stream",
     "text": [
      "[[2303 1033]\n",
      " [1533  114]]\n"
     ]
    }
   ],
   "source": [
    "with open('Piyush.txt','w') as f:\n",
    "    f.write(\"2303\\n1033\\n1533\\n0114\")   #write to file\n",
    "\n",
    "raw2 = np.genfromtxt('piyush.txt',delimiter=',',dtype='int32')  #read from file\n",
    "raw2.resize((2,2))\n",
    "print(raw2)"
   ]
  },
  {
   "cell_type": "markdown",
   "metadata": {},
   "source": [
    "Boolean Masking and Advanced Indexing"
   ]
  },
  {
   "cell_type": "code",
   "execution_count": 51,
   "metadata": {},
   "outputs": [
    {
     "data": {
      "text/plain": [
       "array([[ True,  True],\n",
       "       [ True,  True]])"
      ]
     },
     "execution_count": 51,
     "metadata": {},
     "output_type": "execute_result"
    }
   ],
   "source": [
    "raw2>5 #returns boolean values"
   ]
  },
  {
   "cell_type": "code",
   "execution_count": 52,
   "metadata": {},
   "outputs": [
    {
     "data": {
      "text/plain": [
       "array([2303, 1033, 1533,  114], dtype=int32)"
      ]
     },
     "execution_count": 52,
     "metadata": {},
     "output_type": "execute_result"
    }
   ],
   "source": [
    "raw2[raw2>5] #returns values greater than 5"
   ]
  },
  {
   "cell_type": "code",
   "execution_count": 53,
   "metadata": {},
   "outputs": [
    {
     "data": {
      "text/plain": [
       "array([2, 3, 9])"
      ]
     },
     "execution_count": 53,
     "metadata": {},
     "output_type": "execute_result"
    }
   ],
   "source": [
    "#You can index with a list in NumPy\n",
    "a = np.array([1,2,3,4,5,6,7,8,9])\n",
    "a[[1,2,8]] #returns 2nd, 3rd and 9th element"
   ]
  },
  {
   "cell_type": "markdown",
   "metadata": {},
   "source": [
    "axis 0 runs vertically downwards across rows, and axis 1 runs horizontally across columns."
   ]
  },
  {
   "cell_type": "code",
   "execution_count": 54,
   "metadata": {},
   "outputs": [
    {
     "data": {
      "text/plain": [
       "array([ True,  True])"
      ]
     },
     "execution_count": 54,
     "metadata": {},
     "output_type": "execute_result"
    }
   ],
   "source": [
    "np.any(raw2>5,axis=0) #returns True if any element is greater than 5 in column\n",
    "np.all(raw2>5,axis=0) #returns True if all elements are greater than 5 in column"
   ]
  },
  {
   "cell_type": "code",
   "execution_count": 55,
   "metadata": {},
   "outputs": [
    {
     "name": "stdout",
     "output_type": "stream",
     "text": [
      "[[ 1  2  3  4  5]\n",
      " [ 6  7  8  9 10]\n",
      " [11 12 13 14 15]\n",
      " [16 17 18 19 20]\n",
      " [21 22 23 24 25]\n",
      " [26 27 28 29 30]]\n"
     ]
    }
   ],
   "source": [
    "a = np.array(range(1,31),dtype='int32')\n",
    "a.resize((6,5))\n",
    "print(a)"
   ]
  },
  {
   "cell_type": "code",
   "execution_count": 56,
   "metadata": {},
   "outputs": [
    {
     "name": "stdout",
     "output_type": "stream",
     "text": [
      "[[11 12]\n",
      " [16 17]]\n",
      "[[11 12 13]\n",
      " [16 17 18]\n",
      " [21 22 23]]\n"
     ]
    }
   ],
   "source": [
    "print(a[2:4,0:2]) #returns 3rd and 4th row and 1st and 2nd column\n",
    "print(a[2:-1,0:3]) #returns 3rd and 4th row and 1st and 2nd column"
   ]
  },
  {
   "cell_type": "code",
   "execution_count": 57,
   "metadata": {},
   "outputs": [
    {
     "name": "stdout",
     "output_type": "stream",
     "text": [
      "[ 2  8 14 20]\n"
     ]
    }
   ],
   "source": [
    "print(a[[0,1,2,3],[1,2,3,4]]) #returns 1st element of 1st row, 2nd element of 2nd row, 3rd element of 3rd row and 4th element of 4th row"
   ]
  },
  {
   "cell_type": "code",
   "execution_count": 58,
   "metadata": {},
   "outputs": [
    {
     "name": "stdout",
     "output_type": "stream",
     "text": [
      "[[ 4  5]\n",
      " [24 25]\n",
      " [29 30]]\n"
     ]
    }
   ],
   "source": [
    "print(a[[0,4,5],3:]) #returns 4th and 5th column of 1st, 5th and 6th row"
   ]
  },
  {
   "cell_type": "code",
   "execution_count": 59,
   "metadata": {},
   "outputs": [
    {
     "name": "stdout",
     "output_type": "stream",
     "text": [
      "Loaded data:\n",
      "\n",
      "[[1 3 3 4 5 6 7 8 5 7 6 4 3 3 4 5 6 7 1 4 6 7]\n",
      " [5 8 7 6 7 0 8 2 4 4 6 4 3 9 4 5 6 7 0 5 8 2]\n",
      " [6 4 9 3 2 3 1 5 1 7 6 4 3 3 4 5 6 7 3 2 1 3]]\n",
      "\n",
      "Original shape: (3, 22)\n",
      "Reshaped data:\n",
      "[[1 3 3 4 5 6]\n",
      " [7 8 5 7 6 4]\n",
      " [3 3 4 5 6 7]\n",
      " [1 4 6 7 5 8]\n",
      " [7 6 7 0 8 2]\n",
      " [4 4 6 4 3 9]\n",
      " [4 5 6 7 0 5]\n",
      " [8 2 6 4 9 3]\n",
      " [2 3 1 5 1 7]\n",
      " [6 4 3 3 4 5]\n",
      " [6 7 3 2 1 3]]\n"
     ]
    }
   ],
   "source": [
    "import numpy as np\n",
    "\n",
    "# Load the data from the file\n",
    "file = np.genfromtxt('data.txt', delimiter=',', dtype='int64')\n",
    "\n",
    "# Print the loaded data\n",
    "print(\"Loaded data:\\n\")\n",
    "print(file)\n",
    "\n",
    "# Check the shape of the loaded data\n",
    "print(\"\\nOriginal shape:\", file.shape)\n",
    "\n",
    "# Ensure the total number of elements matches the new shape\n",
    "if file.size == 3 * 22:\n",
    "    file = file.reshape(11, 6)\n",
    "    print(\"Reshaped data:\")\n",
    "    print(file)\n",
    "else:\n",
    "    print(f\"Cannot reshape array of size {file.size} into shape (3, 11)\")"
   ]
  },
  {
   "cell_type": "markdown",
   "metadata": {},
   "source": [
    "End here..."
   ]
  }
 ],
 "metadata": {
  "kernelspec": {
   "display_name": "Python 3",
   "language": "python",
   "name": "python3"
  },
  "language_info": {
   "codemirror_mode": {
    "name": "ipython",
    "version": 3
   },
   "file_extension": ".py",
   "mimetype": "text/x-python",
   "name": "python",
   "nbconvert_exporter": "python",
   "pygments_lexer": "ipython3",
   "version": "3.13.2"
  }
 },
 "nbformat": 4,
 "nbformat_minor": 2
}
